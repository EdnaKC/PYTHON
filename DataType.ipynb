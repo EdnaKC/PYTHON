{
 "cells": [
  {
   "cell_type": "markdown",
   "id": "1971db0e",
   "metadata": {},
   "source": [
    "### Q1\n",
    "List the basic data types in python and give one example each."
   ]
  },
  {
   "cell_type": "code",
   "execution_count": null,
   "id": "6c25a697",
   "metadata": {},
   "outputs": [],
   "source": [
    "FLOAT Eg. a = 1.2456\n",
    "INTEGER Eg.b = 45\n",
    "BOOLEAN Eg.c =  True\n",
    "STRING Eg. d = \"Science\""
   ]
  },
  {
   "cell_type": "markdown",
   "id": "4a2be5ba",
   "metadata": {},
   "source": [
    "### Q2\n",
    "Change the variable x = 4539.85 to :\n",
    "\n",
    "(i) a string and assign it to a new variable y,\n",
    "\n",
    "(ii) an integer and assign it to a new variable z\n",
    "\n",
    "Print out the type of y and z."
   ]
  },
  {
   "cell_type": "code",
   "execution_count": 120,
   "id": "4f69aaca",
   "metadata": {},
   "outputs": [
    {
     "data": {
      "text/plain": [
       "str"
      ]
     },
     "execution_count": 120,
     "metadata": {},
     "output_type": "execute_result"
    }
   ],
   "source": [
    "x = \"4539.85\"\n",
    "y = str(x)\n",
    "type(y)\n"
   ]
  },
  {
   "cell_type": "code",
   "execution_count": 128,
   "id": "d95486cb",
   "metadata": {},
   "outputs": [
    {
     "data": {
      "text/plain": [
       "4539"
      ]
     },
     "execution_count": 128,
     "metadata": {},
     "output_type": "execute_result"
    }
   ],
   "source": [
    "x = 4539.85\n",
    "x\n",
    "z = int(x)\n",
    "z"
   ]
  },
  {
   "cell_type": "markdown",
   "id": "81a1251c",
   "metadata": {},
   "source": [
    "### Q3\n",
    "\n",
    "What data type would you use to store\n",
    "\n",
    "a. The price of car? INTEGER\n",
    "\n",
    "b. The age of a person INTEGER\n",
    "\n",
    "c. car plate number: plateNumber = \"AV01-AFP\"? STRING\n",
    "\n",
    "d. The price of fuel FLOAT\n",
    "\n",
    "e. The number of students in the class INTEGER\n",
    "\n",
    "f. The weight of a person FLOAT\n",
    "\n",
    "g. Check whether two figures are equal BOOLEAN\n",
    "\n",
    "i. The name of a  school STRING\n",
    "\n",
    "j. The average result of the overall score of a student FLOAT\n",
    "\n",
    "k. The total number of vote cast INTEGER\n",
    "\n"
   ]
  },
  {
   "cell_type": "code",
   "execution_count": null,
   "id": "d223052b",
   "metadata": {},
   "outputs": [],
   "source": []
  },
  {
   "cell_type": "markdown",
   "id": "f0694362",
   "metadata": {},
   "source": [
    "### Q4\n",
    "**Thomas Partey is arguably the best player in the Black Stars. He is a great addition to the team**\n",
    "\n",
    "Split the statement above into **two statement_1** and **statement_2** such that statement_1 will be 'Thomas Partey is arguably the best player in the Black Stars' and statement_2 will be 'He is a great addition to the team'\n",
    "\n",
    "Statement =\"Thomas Partey is arguably the best player in the Black Stars. He is a great addition to the team\"\n",
    "\n",
    "\n",
    "- **What is the length of statment 1?** ANS 61\n",
    "-**What is the length of statment 2?** ANS 34\n",
    "-**Is the length of statement 1 greater than statement 2** ANS YES"
   ]
  },
  {
   "cell_type": "code",
   "execution_count": 9,
   "id": "2c6e28c1",
   "metadata": {},
   "outputs": [
    {
     "data": {
      "text/plain": [
       "'Thomas Partey is arguably the best player in the Black Stars. He is a great addition to the team'"
      ]
     },
     "execution_count": 9,
     "metadata": {},
     "output_type": "execute_result"
    }
   ],
   "source": [
    "Statement = \"Thomas Partey is arguably the best player in the Black Stars. He is a great addition to the team\"\n",
    "Statement"
   ]
  },
  {
   "cell_type": "code",
   "execution_count": 11,
   "id": "7011b1a3",
   "metadata": {},
   "outputs": [
    {
     "data": {
      "text/plain": [
       "96"
      ]
     },
     "execution_count": 11,
     "metadata": {},
     "output_type": "execute_result"
    }
   ],
   "source": [
    "len(Statement)"
   ]
  },
  {
   "cell_type": "code",
   "execution_count": 13,
   "id": "f8d76bdd",
   "metadata": {},
   "outputs": [
    {
     "data": {
      "text/plain": [
       "61"
      ]
     },
     "execution_count": 13,
     "metadata": {},
     "output_type": "execute_result"
    }
   ],
   "source": [
    "Statement1 = \"Thomas Partey is arguably the best player in the Black Stars.\"\n",
    "Statement1\n",
    "len(Statement1)"
   ]
  },
  {
   "cell_type": "code",
   "execution_count": 16,
   "id": "3b1487e7",
   "metadata": {},
   "outputs": [
    {
     "data": {
      "text/plain": [
       "34"
      ]
     },
     "execution_count": 16,
     "metadata": {},
     "output_type": "execute_result"
    }
   ],
   "source": [
    "Statement2 = \"He is a great addition to the team\"\n",
    "Statement2 \n",
    "len(Statement2)"
   ]
  },
  {
   "cell_type": "code",
   "execution_count": 17,
   "id": "19d84048",
   "metadata": {},
   "outputs": [
    {
     "data": {
      "text/plain": [
       "True"
      ]
     },
     "execution_count": 17,
     "metadata": {},
     "output_type": "execute_result"
    }
   ],
   "source": [
    "Statement1 > Statement2"
   ]
  },
  {
   "cell_type": "markdown",
   "id": "ceb46447",
   "metadata": {},
   "source": [
    "### Q5\n",
    "What values does python use to represent **True** and **False** respectively? 1 and 0"
   ]
  },
  {
   "cell_type": "markdown",
   "id": "e4cc9b15",
   "metadata": {},
   "source": [
    "### Q6\n",
    "Write a code to evaluate if the following statments are True or False.\n",
    "\n",
    "1. 78 is greater than 46 and less than 30 which is an odd number.\n",
    "\n",
    "2. 8-2 is an even number or 8 is a is an odd number.\n",
    "                        \n",
    "3. The number of characters in the word 'boostrap' is 7 and that of 'sample' is 6.\n"
   ]
  },
  {
   "cell_type": "code",
   "execution_count": 34,
   "id": "939cea53",
   "metadata": {},
   "outputs": [
    {
     "data": {
      "text/plain": [
       "78"
      ]
     },
     "execution_count": 34,
     "metadata": {},
     "output_type": "execute_result"
    }
   ],
   "source": [
    "num1 = 78\n",
    "num1\n"
   ]
  },
  {
   "cell_type": "code",
   "execution_count": 35,
   "id": "6f3fade6",
   "metadata": {},
   "outputs": [
    {
     "data": {
      "text/plain": [
       "46"
      ]
     },
     "execution_count": 35,
     "metadata": {},
     "output_type": "execute_result"
    }
   ],
   "source": [
    "num2 = 46\n",
    "num2"
   ]
  },
  {
   "cell_type": "code",
   "execution_count": 36,
   "id": "cbb44f2a",
   "metadata": {},
   "outputs": [
    {
     "data": {
      "text/plain": [
       "30"
      ]
     },
     "execution_count": 36,
     "metadata": {},
     "output_type": "execute_result"
    }
   ],
   "source": [
    "num3 = 30\n",
    "num3"
   ]
  },
  {
   "cell_type": "code",
   "execution_count": 37,
   "id": "759fc891",
   "metadata": {},
   "outputs": [
    {
     "data": {
      "text/plain": [
       "False"
      ]
     },
     "execution_count": 37,
     "metadata": {},
     "output_type": "execute_result"
    }
   ],
   "source": [
    "num1 > num2 < num3"
   ]
  },
  {
   "cell_type": "code",
   "execution_count": 131,
   "id": "6cab7357",
   "metadata": {},
   "outputs": [
    {
     "data": {
      "text/plain": [
       "0"
      ]
     },
     "execution_count": 131,
     "metadata": {},
     "output_type": "execute_result"
    }
   ],
   "source": [
    "8%2\n",
    "\n",
    "8 is an even number"
   ]
  },
  {
   "cell_type": "code",
   "execution_count": 129,
   "id": "9321651f",
   "metadata": {},
   "outputs": [
    {
     "data": {
      "text/plain": [
       "8"
      ]
     },
     "execution_count": 129,
     "metadata": {},
     "output_type": "execute_result"
    }
   ],
   "source": [
    "character1 = \"boostrap\"\n",
    "character1\n",
    "len(character1)"
   ]
  },
  {
   "cell_type": "code",
   "execution_count": 32,
   "id": "10f62130",
   "metadata": {},
   "outputs": [
    {
     "data": {
      "text/plain": [
       "6"
      ]
     },
     "execution_count": 32,
     "metadata": {},
     "output_type": "execute_result"
    }
   ],
   "source": [
    "character2 = \"sample\"\n",
    "character2\n",
    "len(character2)"
   ]
  },
  {
   "cell_type": "code",
   "execution_count": null,
   "id": "571f638a",
   "metadata": {},
   "outputs": [],
   "source": []
  },
  {
   "cell_type": "markdown",
   "id": "bc13f9fc",
   "metadata": {},
   "source": [
    "### Q7\n",
    "Given the following python code,\n",
    "\n",
    "`word='Hello, How are you?'`\n",
    "\n",
    "Write Python code to return the following\n",
    "\n",
    "- How\n",
    "- How are you\n",
    "- are\n",
    "- ?\n",
    "- Hello, How are you\n",
    " "
   ]
  },
  {
   "cell_type": "code",
   "execution_count": 140,
   "id": "ae3705ce",
   "metadata": {},
   "outputs": [
    {
     "data": {
      "text/plain": [
       "'Hello, How are you?'"
      ]
     },
     "execution_count": 140,
     "metadata": {},
     "output_type": "execute_result"
    }
   ],
   "source": [
    "word ='Hello, How are you?'\n",
    "word"
   ]
  },
  {
   "cell_type": "code",
   "execution_count": 141,
   "id": "9589fb71",
   "metadata": {},
   "outputs": [
    {
     "data": {
      "text/plain": [
       "19"
      ]
     },
     "execution_count": 141,
     "metadata": {},
     "output_type": "execute_result"
    }
   ],
   "source": [
    "len(word)"
   ]
  },
  {
   "cell_type": "code",
   "execution_count": 142,
   "id": "66560132",
   "metadata": {},
   "outputs": [
    {
     "data": {
      "text/plain": [
       "'How '"
      ]
     },
     "execution_count": 142,
     "metadata": {},
     "output_type": "execute_result"
    }
   ],
   "source": [
    "word[7:11]"
   ]
  },
  {
   "cell_type": "code",
   "execution_count": 143,
   "id": "e485b13f",
   "metadata": {},
   "outputs": [
    {
     "data": {
      "text/plain": [
       "'How are you'"
      ]
     },
     "execution_count": 143,
     "metadata": {},
     "output_type": "execute_result"
    }
   ],
   "source": [
    "word[7:-1]"
   ]
  },
  {
   "cell_type": "code",
   "execution_count": 144,
   "id": "7551073d",
   "metadata": {},
   "outputs": [
    {
     "data": {
      "text/plain": [
       "'are'"
      ]
     },
     "execution_count": 144,
     "metadata": {},
     "output_type": "execute_result"
    }
   ],
   "source": [
    "word[11:14]"
   ]
  },
  {
   "cell_type": "code",
   "execution_count": 145,
   "id": "f7e9e645",
   "metadata": {},
   "outputs": [
    {
     "data": {
      "text/plain": [
       "'?'"
      ]
     },
     "execution_count": 145,
     "metadata": {},
     "output_type": "execute_result"
    }
   ],
   "source": [
    "word[-1]"
   ]
  },
  {
   "cell_type": "code",
   "execution_count": 146,
   "id": "57ad2829",
   "metadata": {},
   "outputs": [
    {
     "data": {
      "text/plain": [
       "'Hello, How are you'"
      ]
     },
     "execution_count": 146,
     "metadata": {},
     "output_type": "execute_result"
    }
   ],
   "source": [
    "word[:-1]"
   ]
  },
  {
   "cell_type": "markdown",
   "id": "e4167de5",
   "metadata": {},
   "source": [
    "### Q8\n",
    "Given the following python code,\n",
    "\n",
    "`sentence = \"I am very excited\"`\n",
    "\n",
    "Write Python code to return \n",
    "- Convert sentence to upper case\n",
    "- Convert sentence to lower case\n",
    "- Convert sentence to title case\n",
    "- Convert sentence to list of strings\n",
    " "
   ]
  },
  {
   "cell_type": "code",
   "execution_count": 40,
   "id": "6b362c92",
   "metadata": {},
   "outputs": [
    {
     "data": {
      "text/plain": [
       "'I AM VERY EXCITED'"
      ]
     },
     "execution_count": 40,
     "metadata": {},
     "output_type": "execute_result"
    }
   ],
   "source": [
    "sentence = \"I am very excited\"\n",
    "sentence.upper()"
   ]
  },
  {
   "cell_type": "code",
   "execution_count": 41,
   "id": "10b5bcf0",
   "metadata": {},
   "outputs": [
    {
     "data": {
      "text/plain": [
       "'i am very excited'"
      ]
     },
     "execution_count": 41,
     "metadata": {},
     "output_type": "execute_result"
    }
   ],
   "source": [
    "sentence = \"I am very excited\"\n",
    "sentence.lower()"
   ]
  },
  {
   "cell_type": "code",
   "execution_count": 42,
   "id": "5df4f8f9",
   "metadata": {},
   "outputs": [
    {
     "data": {
      "text/plain": [
       "'I Am Very Excited'"
      ]
     },
     "execution_count": 42,
     "metadata": {},
     "output_type": "execute_result"
    }
   ],
   "source": [
    "sentence = \"I am very excited\"\n",
    "sentence.title()"
   ]
  },
  {
   "cell_type": "code",
   "execution_count": 43,
   "id": "e7b7a449",
   "metadata": {},
   "outputs": [
    {
     "data": {
      "text/plain": [
       "['I', 'am', 'very', 'excited']"
      ]
     },
     "execution_count": 43,
     "metadata": {},
     "output_type": "execute_result"
    }
   ],
   "source": [
    "sentence_split = sentence.split(\" \")\n",
    "sentence_split"
   ]
  },
  {
   "cell_type": "markdown",
   "id": "4faf0134",
   "metadata": {},
   "source": [
    "### Q9\n",
    "`word = 'OneThirtyEight'`\n",
    "\n",
    "Using Python code extract the following from the variable word:\n",
    "- One\n",
    "- Thirty\n",
    "- Eight\n",
    "- OneThirty\n",
    "- ThirtyEight\n",
    "- ONETHIRTYEIGHT"
   ]
  },
  {
   "cell_type": "code",
   "execution_count": 70,
   "id": "a5e54513",
   "metadata": {},
   "outputs": [
    {
     "data": {
      "text/plain": [
       "'OneThirtyEight'"
      ]
     },
     "execution_count": 70,
     "metadata": {},
     "output_type": "execute_result"
    }
   ],
   "source": [
    "word = 'OneThirtyEight'\n",
    "word"
   ]
  },
  {
   "cell_type": "code",
   "execution_count": 78,
   "id": "e76152cf",
   "metadata": {},
   "outputs": [
    {
     "data": {
      "text/plain": [
       "'One'"
      ]
     },
     "execution_count": 78,
     "metadata": {},
     "output_type": "execute_result"
    }
   ],
   "source": [
    "word[0:3]"
   ]
  },
  {
   "cell_type": "code",
   "execution_count": 136,
   "id": "f1eac241",
   "metadata": {},
   "outputs": [
    {
     "data": {
      "text/plain": [
       "'Thirty'"
      ]
     },
     "execution_count": 136,
     "metadata": {},
     "output_type": "execute_result"
    }
   ],
   "source": [
    "word[3:9]"
   ]
  },
  {
   "cell_type": "code",
   "execution_count": 105,
   "id": "127706ab",
   "metadata": {},
   "outputs": [
    {
     "data": {
      "text/plain": [
       "'Eight'"
      ]
     },
     "execution_count": 105,
     "metadata": {},
     "output_type": "execute_result"
    }
   ],
   "source": [
    "word[9:]"
   ]
  },
  {
   "cell_type": "code",
   "execution_count": 137,
   "id": "c1aaed5e",
   "metadata": {},
   "outputs": [
    {
     "data": {
      "text/plain": [
       "'OneThirty'"
      ]
     },
     "execution_count": 137,
     "metadata": {},
     "output_type": "execute_result"
    }
   ],
   "source": [
    "word[0:9]"
   ]
  },
  {
   "cell_type": "code",
   "execution_count": 77,
   "id": "05badc60",
   "metadata": {},
   "outputs": [
    {
     "data": {
      "text/plain": [
       "'ThirtyEight'"
      ]
     },
     "execution_count": 77,
     "metadata": {},
     "output_type": "execute_result"
    }
   ],
   "source": [
    "word[3:]"
   ]
  },
  {
   "cell_type": "code",
   "execution_count": 89,
   "id": "65ab4531",
   "metadata": {},
   "outputs": [
    {
     "data": {
      "text/plain": [
       "'ONETHIRTYEIGHT'"
      ]
     },
     "execution_count": 89,
     "metadata": {},
     "output_type": "execute_result"
    }
   ],
   "source": [
    "word.upper()"
   ]
  },
  {
   "cell_type": "markdown",
   "id": "2a4eea1f",
   "metadata": {},
   "source": [
    "### Q10\n",
    "Turn Ault'Kelly into a string and assign it to a variable  called name."
   ]
  },
  {
   "cell_type": "code",
   "execution_count": 116,
   "id": "4e9f5c30",
   "metadata": {},
   "outputs": [
    {
     "data": {
      "text/plain": [
       "str"
      ]
     },
     "execution_count": 116,
     "metadata": {},
     "output_type": "execute_result"
    }
   ],
   "source": [
    "name =  \"Ault_Kelly\"\n",
    "name\n",
    "type(name)"
   ]
  },
  {
   "cell_type": "code",
   "execution_count": null,
   "id": "aa2f0a08",
   "metadata": {},
   "outputs": [],
   "source": []
  }
 ],
 "metadata": {
  "kernelspec": {
   "display_name": "Python 3 (ipykernel)",
   "language": "python",
   "name": "python3"
  },
  "language_info": {
   "codemirror_mode": {
    "name": "ipython",
    "version": 3
   },
   "file_extension": ".py",
   "mimetype": "text/x-python",
   "name": "python",
   "nbconvert_exporter": "python",
   "pygments_lexer": "ipython3",
   "version": "3.9.13"
  }
 },
 "nbformat": 4,
 "nbformat_minor": 5
}
